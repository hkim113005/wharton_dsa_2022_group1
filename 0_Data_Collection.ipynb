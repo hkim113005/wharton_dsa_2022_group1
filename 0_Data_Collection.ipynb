{
 "cells": [
  {
   "cell_type": "markdown",
   "id": "9e5beb2e",
   "metadata": {
    "slideshow": {
     "slide_type": "slide"
    }
   },
   "source": [
    "# Data Collection"
   ]
  },
  {
   "cell_type": "code",
   "execution_count": null,
   "id": "128086a1-7ca3-49cc-9c19-0c2fa5134ebe",
   "metadata": {},
   "outputs": [],
   "source": [
    "!pip install spotipy\n",
    "!pip install numpy\n",
    "!pip install pandas\n",
    "!pip install pickle-mixin\n",
    "!pip install tqdm"
   ]
  },
  {
   "cell_type": "markdown",
   "id": "d8a35c3a-7768-4a62-bc41-84d9820119f6",
   "metadata": {
    "slideshow": {
     "slide_type": "slide"
    },
    "tags": []
   },
   "source": [
    "## Importing Needed Libraries"
   ]
  },
  {
   "cell_type": "code",
   "execution_count": null,
   "id": "18b086da-aac5-40b8-aaba-cd90efc929d7",
   "metadata": {
    "slideshow": {
     "slide_type": "subslide"
    },
    "tags": []
   },
   "outputs": [],
   "source": [
    "import spotipy\n",
    "from spotipy.oauth2 import SpotifyOAuth\n",
    "import numpy as np\n",
    "import csv\n",
    "import pandas as pd\n",
    "from tqdm.notebook import tqdm\n",
    "import time\n",
    "import pickle\n",
    "import os\n",
    "import random\n",
    "import math\n",
    "\n",
    "os.environ[\"SPOTIPY_CLIENT_ID\"] = \"760ed52c59224d5284b5e584d889eaa6\"\n",
    "os.environ[\"SPOTIPY_CLIENT_SECRET\"] = \"3985bd6c9b2c490d95cff9ef6426014d\"\n",
    "os.environ[\"SPOTIPY_REDIRECT_URI\"] = \"http://localhost:8080/\"\n",
    "\n",
    "scope = \"user-library-read\"\n",
    "sp = spotipy.Spotify(auth_manager=SpotifyOAuth(scope=scope))"
   ]
  },
  {
   "cell_type": "code",
   "execution_count": null,
   "id": "e3ebdbac-22f4-4214-bd26-20d3d99b61ae",
   "metadata": {},
   "outputs": [],
   "source": [
    "sp.track(\"https://open.spotify.com/track/5pcjystBtalYeqaiXCcgEY?si=757f260f6e6d43bb\")"
   ]
  },
  {
   "cell_type": "markdown",
   "id": "66718ca2-b19e-4bf7-a84c-d764f8e9fc32",
   "metadata": {
    "slideshow": {
     "slide_type": "slide"
    }
   },
   "source": [
    "## Read Data"
   ]
  },
  {
   "cell_type": "code",
   "execution_count": null,
   "id": "0803097c-305b-481d-b185-4667daee4376",
   "metadata": {
    "slideshow": {
     "slide_type": "subslide"
    },
    "tags": []
   },
   "outputs": [],
   "source": [
    "bb_data = pd.read_csv(\"data/original/billboard_top100.csv\")\n",
    "bb_data = bb_data[~(bb_data['date'] < '2008-01-01')]\n",
    "\n",
    "musico_data = pd.read_csv(\"data/original/musico_artists_popularity.csv\", sep=\"\\t\")"
   ]
  },
  {
   "cell_type": "markdown",
   "id": "a77be036",
   "metadata": {
    "slideshow": {
     "slide_type": "slide"
    }
   },
   "source": [
    "## Defining Helper Functions"
   ]
  },
  {
   "cell_type": "code",
   "execution_count": null,
   "id": "70a9c590-c72f-4f65-b0cc-a56b42dc4d3d",
   "metadata": {
    "slideshow": {
     "slide_type": "subslide"
    },
    "tags": []
   },
   "outputs": [],
   "source": [
    "def get_artist(raw):\n",
    "    if \",\" in raw:\n",
    "        return raw[:raw.index(\",\")]\n",
    "    if \"&\" in raw:\n",
    "        return raw[:raw.index(\"&\") - 1]\n",
    "    \n",
    "    return raw\n",
    "\n",
    "def gen_id(song, artist):\n",
    "    return song + \"%:%\" + get_artist(artist)\n",
    "\n",
    "def hit_song(track_hist, verbose=False, weights=[99, 95, 90, 80, 60, 10]):    \n",
    "    top = {1: 0, 5: 0, 10: 0, 20: 0, 40: 0, 100: 0}\n",
    "    for entry in track_hist:\n",
    "        rank = entry[\"rank\"]\n",
    "        for key in top.keys():\n",
    "            if rank <= key:\n",
    "                top[key] += 1\n",
    "                break\n",
    "                \n",
    "    if verbose:\n",
    "        print(track_hist)\n",
    "        print(top)\n",
    "        \n",
    "    return np.dot(list(top.values()), weights)"
   ]
  },
  {
   "cell_type": "markdown",
   "id": "a41dffd3-38a8-41e1-9cd3-a5d391dabb4d",
   "metadata": {
    "slideshow": {
     "slide_type": "slide"
    }
   },
   "source": [
    "## Get URLs from Spotify"
   ]
  },
  {
   "cell_type": "markdown",
   "id": "5069ae88-9399-4476-bad4-72497e70d435",
   "metadata": {},
   "source": [
    "### Utilize Spotify to get URLs"
   ]
  },
  {
   "cell_type": "code",
   "execution_count": null,
   "id": "3134a3ca-09b6-4bdd-a532-006cf0b5d661",
   "metadata": {
    "slideshow": {
     "slide_type": "subslide"
    },
    "tags": []
   },
   "outputs": [],
   "source": [
    "urls = {}\n",
    "\n",
    "for i in tqdm(range(bb_data.shape[0])):\n",
    "    track = bb_data.iloc[i]\n",
    "    key = gen_id(track[\"song\"], track[\"artist\"])\n",
    "    if key not in urls.keys() or urls[key] == None:\n",
    "        try:\n",
    "            urls[key] = sp.search(q=\"artist: \" + get_artist(track[\"artist\"]) + \" track: \" + track[\"song\"], type=\"track\", limit=1)[\"tracks\"][\"items\"][0][\"external_urls\"][\"spotify\"]\n",
    "        except:\n",
    "            urls[key] = \"NA\"\n",
    "            \n",
    "for key, value in urls.items():\n",
    "    if value == \"NA\":\n",
    "        print(\"NOT FOUND: \" + str(key))\n",
    "    if value == None:\n",
    "        print(\"ERROR: \" + str(key))"
   ]
  },
  {
   "cell_type": "markdown",
   "id": "b441d868-9b00-435d-9769-c8660737742b",
   "metadata": {},
   "source": [
    "### Manually Update Some URL That Weren't Found"
   ]
  },
  {
   "cell_type": "code",
   "execution_count": null,
   "id": "31117644-557d-4cc8-b797-a675d8b310a3",
   "metadata": {
    "slideshow": {
     "slide_type": "subslide"
    }
   },
   "outputs": [],
   "source": [
    "urls[\"You All Over Me (Taylor's Version) (From The Vault)%:%Taylor Swift Featuring Maren Morris\"] = \"https://open.spotify.com/track/5pcjystBtalYeqaiXCcgEY?si=757f260f6e6d43bb\"\n",
    "urls[\"It's Beginning To Look A Lot Like Christmas%:%Perry Como And The Fontane Sisters With Mitchell Ayres And His Orchestra\"] = \"https://open.spotify.com/track/2pXpURmn6zC5ZYDMms6fwa?si=4fddbdd48c8f422a\"\n",
    "urls[\"We Are One (Ole Ola) [The 2014 FIFA World Cup Official Song]%:%Pitbull Featuring Jennifer Lopez\"] = \"https://open.spotify.com/track/1PCvKFPWnTXAe2oaReVUcr?si=1f57b36659ec428c\""
   ]
  },
  {
   "cell_type": "markdown",
   "id": "b05b711f-a560-4cc6-aa15-edef1bc332e6",
   "metadata": {},
   "source": [
    "### Manually Correct Incorrect URLs"
   ]
  },
  {
   "cell_type": "code",
   "execution_count": null,
   "id": "946ad540-f022-4c8b-bf14-3e2fbf083e21",
   "metadata": {},
   "outputs": [],
   "source": [
    "man_corrected_urls = pd.read_csv(\"data/manually_corrected_urls.csv\")\n",
    "\n",
    "urls_clean = {}\n",
    "for row in man_corrected_urls.iterrows():\n",
    "    urls.update({row[1][\"new_id\"]: row[1][\"url\"]})\n",
    "\n",
    "for key, url in urls.items():\n",
    "    if type(url) == str:\n",
    "        urls_clean[key] = url\n",
    "urls = urls_clean"
   ]
  },
  {
   "cell_type": "markdown",
   "id": "98464601-bde3-4151-8ce9-5be3cf52c6e8",
   "metadata": {},
   "source": [
    "### Sample 10 Random Songs as a Check"
   ]
  },
  {
   "cell_type": "code",
   "execution_count": null,
   "id": "04de5d40-240f-4036-9f34-7d0f47b3f25b",
   "metadata": {
    "slideshow": {
     "slide_type": "subslide"
    }
   },
   "outputs": [],
   "source": [
    "sample_keys = random.sample(list(urls), 10)\n",
    "\n",
    "for key in sample_keys:\n",
    "    print(key, urls[key])"
   ]
  },
  {
   "cell_type": "markdown",
   "id": "076bb6e0-1b78-4860-b0e6-77e44cf3ed6e",
   "metadata": {},
   "source": [
    "### Write Pickle and CSV for URLs (DO NOT RUN IF YOU ARE LOADING FROM PICKLE)"
   ]
  },
  {
   "cell_type": "code",
   "execution_count": null,
   "id": "b0f4019f",
   "metadata": {
    "slideshow": {
     "slide_type": "subslide"
    },
    "tags": []
   },
   "outputs": [],
   "source": [
    "with open('pickles/urls_dict.pickle', 'wb') as handle:\n",
    "    pickle.dump(urls, handle, protocol=pickle.HIGHEST_PROTOCOL)\n",
    "    \n",
    "with open('data/spotify_urls.csv', 'w') as csv_file:  \n",
    "    writer = csv.writer(csv_file)\n",
    "    writer.writerow([\"new_id\", \"url\"])\n",
    "    for key, value in urls.items():\n",
    "        writer.writerow([key, value])"
   ]
  },
  {
   "cell_type": "markdown",
   "id": "9b00fb8b-be45-404c-ac5b-fe91d1b53142",
   "metadata": {},
   "source": [
    "### Load URLs from Pickle"
   ]
  },
  {
   "cell_type": "code",
   "execution_count": null,
   "id": "c73c5659-4cec-4a55-8d99-e45c7edd5d1c",
   "metadata": {},
   "outputs": [],
   "source": [
    "with open('pickles/urls_dict.pickle', 'rb') as handle:\n",
    "    urls = pickle.load(handle)"
   ]
  },
  {
   "cell_type": "markdown",
   "id": "3461febe-3ed6-45e0-a918-35c754d375c6",
   "metadata": {
    "slideshow": {
     "slide_type": "slide"
    }
   },
   "source": [
    "## Finding Track Charting History"
   ]
  },
  {
   "cell_type": "markdown",
   "id": "0da6077e-d775-49e8-a8bb-e806f1ae41ac",
   "metadata": {},
   "source": [
    "### Finding Track Charting History"
   ]
  },
  {
   "cell_type": "code",
   "execution_count": null,
   "id": "fe925afa-c638-4df4-b8cb-9a8c2c78f389",
   "metadata": {
    "slideshow": {
     "slide_type": "subslide"
    },
    "tags": []
   },
   "outputs": [],
   "source": [
    "tracks_hist = {}\n",
    "\n",
    "for i in tqdm(range(bb_data.shape[0])):\n",
    "    track = bb_data.iloc[i]\n",
    "    new_id = gen_id(track[\"song\"], track[\"artist\"])\n",
    "    if new_id in tracks_hist.keys():\n",
    "        tracks_hist[new_id].append({key: track[key] for key in track.keys() if key not in [\"song\", \"artist\", \"last-week\"]})\n",
    "    else:\n",
    "        tracks_hist[new_id] = [{key: track[key] for key in track.keys() if key not in [\"song\", \"artist\", \"last-week\"]}]"
   ]
  },
  {
   "cell_type": "markdown",
   "id": "9a21f8c6-3e74-45cb-825c-14e3e86d31aa",
   "metadata": {},
   "source": [
    "### Write Pickle and CSV for Track Histories (DO NOT RUN IF YOU ARE LOADING FROM PICKLE)"
   ]
  },
  {
   "cell_type": "code",
   "execution_count": null,
   "id": "c359ed21-b3d9-45f3-9cd9-bc7069950532",
   "metadata": {},
   "outputs": [],
   "source": [
    "with open('pickles/tracks_hist_dict.pickle', 'wb') as handle:\n",
    "    pickle.dump(tracks_hist, handle, protocol=pickle.HIGHEST_PROTOCOL)\n",
    "    \n",
    "with open('data/billboard_t100_filtered.csv', 'w') as csv_file:  \n",
    "    writer = csv.writer(csv_file)\n",
    "    writer.writerow([\"new_id\", \"track_hist\"])\n",
    "    for key, value in tracks_hist.items():\n",
    "        tmp = [str(entry) for entry in value]\n",
    "        writer.writerow([key, \";\".join(tmp)])"
   ]
  },
  {
   "cell_type": "markdown",
   "id": "cc687d94-a3e6-4e2b-927a-7a5e0b5e1f91",
   "metadata": {},
   "source": [
    "### Load Track Histories from Pickle"
   ]
  },
  {
   "cell_type": "code",
   "execution_count": null,
   "id": "94df3e85-a51b-4326-9cba-8f1d78a138b2",
   "metadata": {},
   "outputs": [],
   "source": [
    "with open('pickles/tracks_hist_dict.pickle', 'rb') as handle:\n",
    "    tracks_hist = pickle.load(handle)"
   ]
  },
  {
   "cell_type": "markdown",
   "id": "eef07757-086a-4cf0-b473-6633b971b399",
   "metadata": {
    "slideshow": {
     "slide_type": "slide"
    }
   },
   "source": [
    "## Find \"Hitness\" Rating for Each Track Based on Charting History"
   ]
  },
  {
   "cell_type": "markdown",
   "id": "3806b6d8-b2a6-4d9e-890f-9f755dd0a1bc",
   "metadata": {},
   "source": [
    "### Calculate Hitness of Each Song"
   ]
  },
  {
   "cell_type": "code",
   "execution_count": null,
   "id": "cd16c74a-02d7-4e63-8f62-7757b3cb6ec6",
   "metadata": {
    "slideshow": {
     "slide_type": "subslide"
    }
   },
   "outputs": [],
   "source": [
    "hitness = {}\n",
    "\n",
    "for key in tracks_hist.keys():\n",
    "    hitness[key] = hit_song(tracks_hist[key], weights=[100, 90, 80, 60, 40, 20])"
   ]
  },
  {
   "cell_type": "markdown",
   "id": "9b312f8d-e05e-45d6-a997-466fd1d4e93a",
   "metadata": {},
   "source": [
    "### Write Pickle and CSV for Hitness (DO NOT RUN IF YOU ARE LOADING FROM PICKLE)"
   ]
  },
  {
   "cell_type": "code",
   "execution_count": null,
   "id": "2b00b43d-d04c-4572-a9ec-669a35436c7a",
   "metadata": {},
   "outputs": [],
   "source": [
    "with open('pickles/hitness_dict.pickle', 'wb') as handle:\n",
    "    pickle.dump(hitness, handle, protocol=pickle.HIGHEST_PROTOCOL)\n",
    "    \n",
    "with open('data/billboard_hitness.csv', 'w') as csv_file:  \n",
    "    writer = csv.writer(csv_file)\n",
    "    writer.writerow([\"new_id\", \"hitness\"])\n",
    "    for key, value in hitness.items():\n",
    "        writer.writerow([key, value])"
   ]
  },
  {
   "cell_type": "markdown",
   "id": "3df21acd-14d5-4849-a401-4a939dca5c7e",
   "metadata": {},
   "source": [
    "### Load Hitness from Pickle"
   ]
  },
  {
   "cell_type": "code",
   "execution_count": null,
   "id": "47f57729-ab26-42cd-8a48-74b59c78b536",
   "metadata": {},
   "outputs": [],
   "source": [
    "with open('pickles/hitness_dict.pickle', 'rb') as handle:\n",
    "    hitness = pickle.load(handle)"
   ]
  },
  {
   "cell_type": "markdown",
   "id": "c531c350-e639-4167-b0f5-4f211321998e",
   "metadata": {
    "slideshow": {
     "slide_type": "slide"
    }
   },
   "source": [
    "## Get Audio Features of Each Track Using Spotipy"
   ]
  },
  {
   "cell_type": "markdown",
   "id": "1663e9be-1530-4081-8c14-a9603954bcdf",
   "metadata": {},
   "source": [
    "### Get Audio Features"
   ]
  },
  {
   "cell_type": "code",
   "execution_count": null,
   "id": "5f47c561-4bee-426c-8c3a-4e951b5f0adc",
   "metadata": {
    "slideshow": {
     "slide_type": "subslide"
    }
   },
   "outputs": [],
   "source": [
    "features = {}\n",
    "\n",
    "for key in tqdm(tracks_hist.keys()):\n",
    "    if key not in features.keys() or features[key] == None:\n",
    "        features[key] = sp.audio_features(urls[key])[0]"
   ]
  },
  {
   "cell_type": "markdown",
   "id": "e947390b-bb46-4c5a-bc27-a5c5388e8a1e",
   "metadata": {},
   "source": [
    "### Check For Missing Values"
   ]
  },
  {
   "cell_type": "code",
   "execution_count": null,
   "id": "1000f361-f1db-4121-abd9-0a64e09cedd0",
   "metadata": {
    "slideshow": {
     "slide_type": "subslide"
    }
   },
   "outputs": [],
   "source": [
    "for key, value in features.items():\n",
    "    if features[key] == None:\n",
    "        print(\"NOT FOUND: \" + key)"
   ]
  },
  {
   "cell_type": "markdown",
   "id": "f7b9570c-fbac-4113-a4cd-f636c30743a8",
   "metadata": {},
   "source": [
    "### Manually Entering Missing Value(s)"
   ]
  },
  {
   "cell_type": "code",
   "execution_count": null,
   "id": "7c85b36b-b192-4247-8be7-bc98a223d6f9",
   "metadata": {
    "slideshow": {
     "slide_type": "subslide"
    },
    "tags": []
   },
   "outputs": [],
   "source": [
    "urls[\"Memories%:%David Guetta Featuring Kid Cudi\"] = \"https://open.spotify.com/track/5xYC48nOppVemY6U5GRGTb?si=7ba7d8a23d5e4ded\"\n",
    "# features[\"Memories%:%David Guetta Featuring Kid Cudi\"] = \n",
    "sp.audio_features(urls[\"Memories%:%David Guetta Featuring Kid Cudi\"])[0]"
   ]
  },
  {
   "cell_type": "markdown",
   "id": "2b909c5e-5102-4974-8bbb-7af980b28c5d",
   "metadata": {},
   "source": [
    "### Write Pickle and CSV for Features (DO NOT RUN IF YOU ARE LOADING FROM PICKLE)"
   ]
  },
  {
   "cell_type": "code",
   "execution_count": null,
   "id": "4154a29c-325e-4d90-88fc-5fcf6cff52e9",
   "metadata": {
    "slideshow": {
     "slide_type": "subslide"
    }
   },
   "outputs": [],
   "source": [
    "with open('pickles/features_dict.pickle', 'wb') as handle:\n",
    "    pickle.dump(urls, handle, protocol=pickle.HIGHEST_PROTOCOL)\n",
    "    \n",
    "with open('data/spotify_features.csv', 'w') as csv_file:  \n",
    "    writer = csv.writer(csv_file)\n",
    "    writer.writerow([\"new_id\"] + list(features[list(features.keys())[0]].keys()) + [\"url\"])\n",
    "    for key, value in features.items():\n",
    "        if value == None:\n",
    "            print(key, value)\n",
    "        writer.writerow([key] + list(value.values()) + [urls[key]])"
   ]
  },
  {
   "cell_type": "markdown",
   "id": "b1ced7e0-5408-40e3-b0f6-d11c61769e5d",
   "metadata": {},
   "source": [
    "### Load Hitness from Pickle"
   ]
  },
  {
   "cell_type": "code",
   "execution_count": null,
   "id": "27c7c39e-867f-4c7b-93b8-77743331509d",
   "metadata": {},
   "outputs": [],
   "source": [
    "with open('pickles/features_dict.pickle', 'rb') as handle:\n",
    "    hitness = pickle.load(handle)"
   ]
  },
  {
   "cell_type": "markdown",
   "id": "47a191ec-1ed0-44a5-be41-40a1d84d9648",
   "metadata": {},
   "source": [
    "## Get Track Names"
   ]
  },
  {
   "cell_type": "markdown",
   "id": "33d409b9-88b1-4004-af87-80b3f253a342",
   "metadata": {},
   "source": [
    "### Get Track Names with Spotify API"
   ]
  },
  {
   "cell_type": "code",
   "execution_count": null,
   "id": "41f664f0-2ddb-49b9-a24e-af306d2bf67c",
   "metadata": {},
   "outputs": [],
   "source": [
    "tracks = {}\n",
    "\n",
    "for key in tqdm(tracks_hist.keys()):\n",
    "    if key not in tracks.keys():\n",
    "        try:\n",
    "            tracks[key] = sp.track(urls[key])[\"name\"]\n",
    "        except:\n",
    "            print(\"Error\")\n",
    "            tracks[key] = None"
   ]
  },
  {
   "cell_type": "markdown",
   "id": "353173b5-f649-47cb-a943-f928c8b61d5a",
   "metadata": {},
   "source": [
    "### Write Pickle and CSV for Track Names (DO NOT RUN IF YOU ARE LOADING FROM PICKLE)"
   ]
  },
  {
   "cell_type": "code",
   "execution_count": null,
   "id": "2781491b-271a-4e2e-a9af-9990c701b0db",
   "metadata": {},
   "outputs": [],
   "source": [
    "with open('pickles/tracks_dict.pickle', 'wb') as handle:\n",
    "    pickle.dump(tracks, handle, protocol=pickle.HIGHEST_PROTOCOL)\n",
    "    \n",
    "with open('data/spotify_tracks.csv', 'w') as csv_file:  \n",
    "    writer = csv.writer(csv_file)\n",
    "    writer.writerow([\"new_id\", \"artist_id\"])\n",
    "    for key, value in tracks.items():\n",
    "        writer.writerow([key, value])"
   ]
  },
  {
   "cell_type": "markdown",
   "id": "a8c7cd00-8dec-4a07-ac8e-b06e946314ca",
   "metadata": {},
   "source": [
    "### Load Track Names from Pickle"
   ]
  },
  {
   "cell_type": "code",
   "execution_count": null,
   "id": "56e97ac6-7c25-43ca-82d1-4b647ecb797b",
   "metadata": {},
   "outputs": [],
   "source": [
    "with open('pickles/tracks_dict.pickle', 'rb') as handle:\n",
    "    tracks = pickle.load(handle)"
   ]
  },
  {
   "cell_type": "markdown",
   "id": "bd27a373-06a7-4f13-b3e1-9a59bbc15b66",
   "metadata": {
    "slideshow": {
     "slide_type": "slide"
    }
   },
   "source": [
    "## Getting Artist IDs of Artists on Each Song"
   ]
  },
  {
   "cell_type": "markdown",
   "id": "9b54bbba-b6db-4f56-9010-8057ae216e8f",
   "metadata": {},
   "source": [
    "### Get Artists IDs from Spotify API"
   ]
  },
  {
   "cell_type": "code",
   "execution_count": null,
   "id": "5c52f926-0c4a-438e-8a63-4746efd9ef80",
   "metadata": {
    "slideshow": {
     "slide_type": "subslide"
    },
    "tags": []
   },
   "outputs": [],
   "source": [
    "artists = {}\n",
    "\n",
    "for key in tqdm(tracks_hist.keys()):\n",
    "    artists[key] = []\n",
    "    if key not in artists.keys() or len(artists[key]) == 0:\n",
    "        try:\n",
    "            for artist in sp.track(urls[key])[\"artists\"]:\n",
    "                artists[key].append(artist[\"id\"])\n",
    "        except:\n",
    "            artists[key] = None"
   ]
  },
  {
   "cell_type": "markdown",
   "id": "9abc9b0b-320b-4288-a0f0-869247b175b0",
   "metadata": {},
   "source": [
    "### Write Pickle and CSV for Artist IDs (DO NOT RUN IF YOU ARE LOADING FROM PICKLE)"
   ]
  },
  {
   "cell_type": "code",
   "execution_count": null,
   "id": "0d8bf2b8-25a4-4cf8-bc77-925ff5bc88ca",
   "metadata": {},
   "outputs": [],
   "source": [
    "with open('pickles/artists_dict.pickle', 'wb') as handle:\n",
    "    pickle.dump(artists, handle, protocol=pickle.HIGHEST_PROTOCOL)\n",
    "    \n",
    "with open('data/spotify_artists.csv', 'w') as csv_file:  \n",
    "    writer = csv.writer(csv_file)\n",
    "    writer.writerow([\"new_id\", \"artist_id\"])\n",
    "    for key, value in artists.items():\n",
    "        writer.writerow([key, value])"
   ]
  },
  {
   "cell_type": "markdown",
   "id": "18e09dd5-9c4c-42df-89a6-aad07bd65efe",
   "metadata": {},
   "source": [
    "### Load Artist IDs from Pickle"
   ]
  },
  {
   "cell_type": "code",
   "execution_count": null,
   "id": "825e9e03-27bc-40fd-8b8d-d38f8f9e574b",
   "metadata": {
    "tags": []
   },
   "outputs": [],
   "source": [
    "with open('pickles/artists_dict.pickle', 'rb') as handle:\n",
    "    artists = pickle.load(handle)"
   ]
  },
  {
   "cell_type": "markdown",
   "id": "e2400790-8933-45ef-a9c4-bea02fed8386",
   "metadata": {
    "slideshow": {
     "slide_type": "slide"
    }
   },
   "source": [
    "## Getting Charting Years of Each Track"
   ]
  },
  {
   "cell_type": "markdown",
   "id": "95278458-45b9-4053-9df9-4d16b8026ac0",
   "metadata": {},
   "source": [
    "### Find Charting Years for Each Track"
   ]
  },
  {
   "cell_type": "code",
   "execution_count": null,
   "id": "937b420b-85a4-4ad9-8af2-c603d593f089",
   "metadata": {
    "slideshow": {
     "slide_type": "subslide"
    }
   },
   "outputs": [],
   "source": [
    "charting_years = {}\n",
    "\n",
    "for key in tqdm(tracks.keys()):\n",
    "    charting_years[key] = [tracks[key][0][\"date\"][:4], tracks[key][-1][\"date\"][:4]]"
   ]
  },
  {
   "cell_type": "markdown",
   "id": "e6f39b48-8cde-4b8f-b183-122e1b788908",
   "metadata": {},
   "source": [
    "### Write Pickle and CSV for Charting Years (DO NOT RUN IF YOU ARE LOADING FROM PICKLE)"
   ]
  },
  {
   "cell_type": "code",
   "execution_count": null,
   "id": "a3b745fe-f143-4420-b45a-fe89613bec1a",
   "metadata": {},
   "outputs": [],
   "source": [
    "with open('pickles/dates_dict.pickle', 'wb') as handle:\n",
    "    pickle.dump(charting_years, handle, protocol=pickle.HIGHEST_PROTOCOL)\n",
    "    \n",
    "with open('data/spotify_charting_years.csv', 'w') as csv_file:  \n",
    "    writer = csv.writer(csv_file)\n",
    "    writer.writerow([\"new_id\", \"chart_start\", \"chart_end\"])\n",
    "    for key, value in charting_years.items():\n",
    "        writer.writerow([key, value[1], value[0]]) "
   ]
  },
  {
   "cell_type": "markdown",
   "id": "fc675038-8144-4156-add2-631dc557885b",
   "metadata": {},
   "source": [
    "### Load Charting Years from Pickle"
   ]
  },
  {
   "cell_type": "code",
   "execution_count": null,
   "id": "0c95046d-1843-44d7-85ae-6db98add548a",
   "metadata": {},
   "outputs": [],
   "source": [
    "with open('pickles/dates_dict.pickle', 'rb') as handle:\n",
    "    charting_years = pickle.load(handle)"
   ]
  },
  {
   "cell_type": "markdown",
   "id": "68a8434a",
   "metadata": {
    "slideshow": {
     "slide_type": "slide"
    }
   },
   "source": [
    "## Getting Popularity of Artists"
   ]
  },
  {
   "cell_type": "markdown",
   "id": "e9619295-7d1f-4635-b0b3-d7f27fba2896",
   "metadata": {},
   "source": [
    "### Calculate Max Artist Popularity for Each Song"
   ]
  },
  {
   "cell_type": "code",
   "execution_count": null,
   "id": "63b67978-9f3e-4096-8e2b-c646f61a6269",
   "metadata": {
    "slideshow": {
     "slide_type": "subslide"
    }
   },
   "outputs": [],
   "source": [
    "popularity = {}\n",
    "\n",
    "for key in tqdm(tracks_hist.keys()):\n",
    "    popularity[key] = -1\n",
    "    for artist in artists[key]:\n",
    "        try:\n",
    "            popularity[key] = max(popularity[key], musico_popularity_data.loc[(musico_popularity_data[\"year\"] >= int(charting_years[key][0])) & (musico_popularity_data[\"year\"] <= max(2018, int(charting_years[key][1]))) & (musico_popularity_data[\"artist_id\"] == artist)][\"year_end_score\"].mean())\n",
    "        except:\n",
    "            pass"
   ]
  },
  {
   "cell_type": "markdown",
   "id": "2f27b85d-7796-42f0-80e3-75a22f96e540",
   "metadata": {},
   "source": [
    "### Write Pickle and CSV for Artist Popularity (DO NOT RUN IF YOU ARE LOADING FROM PICKLE)"
   ]
  },
  {
   "cell_type": "code",
   "execution_count": null,
   "id": "1bf49098-e857-4ef5-b942-38c55d5e1287",
   "metadata": {},
   "outputs": [],
   "source": [
    "with open('pickles/popularity_dict.pickle', 'wb') as handle:\n",
    "    pickle.dump(urls, handle, protocol=pickle.HIGHEST_PROTOCOL)\n",
    "    \n",
    "with open('data/musico_popularity.csv', 'w') as csv_file:  \n",
    "    writer = csv.writer(csv_file)\n",
    "    writer.writerow([\"new_id\", \"popularity\"])\n",
    "    for key, value in popularity.items():\n",
    "        writer.writerow([key, value]) "
   ]
  },
  {
   "cell_type": "markdown",
   "id": "305e7452-5563-4efa-aa04-a6a8dd3a2b68",
   "metadata": {},
   "source": [
    "### Load Artist Popularity from Pickle"
   ]
  },
  {
   "cell_type": "code",
   "execution_count": null,
   "id": "a5639f46-4c4a-4cd2-a354-7f635faef7f1",
   "metadata": {},
   "outputs": [],
   "source": [
    "with open('pickles/popularity_dict.pickle', 'rb') as handle:\n",
    "    popularity = pickle.load(handle)"
   ]
  },
  {
   "cell_type": "markdown",
   "id": "8587a0bd-2847-4690-a1eb-8992ff1de181",
   "metadata": {},
   "source": [
    "## Getting Lyrics"
   ]
  },
  {
   "cell_type": "code",
   "execution_count": null,
   "id": "4653cc7b",
   "metadata": {
    "tags": []
   },
   "outputs": [],
   "source": [
    "dataset = pd.read_csv(\"/Users/hyungjaekim/Data Science Academy/music/group1_hit_songs_dataset_raw.csv\")"
   ]
  },
  {
   "cell_type": "markdown",
   "id": "574793a8-6834-4d4f-a4a8-3f8e0bdda2f2",
   "metadata": {},
   "source": [
    "### Install lyricsgenius Package"
   ]
  },
  {
   "cell_type": "code",
   "execution_count": null,
   "id": "4d4e85d4-d853-4768-926d-f1d10ae13c00",
   "metadata": {},
   "outputs": [],
   "source": [
    "!pip install lyricsgenius"
   ]
  },
  {
   "cell_type": "markdown",
   "id": "81463598-b2aa-4cfa-ac06-6d8cccd5a327",
   "metadata": {},
   "source": [
    "### Setup Genius API"
   ]
  },
  {
   "cell_type": "code",
   "execution_count": null,
   "id": "651ac752-b04a-4fb0-b557-8f93cc970537",
   "metadata": {},
   "outputs": [],
   "source": [
    "from lyricsgenius import Genius\n",
    "token = '9mS1_EvPIb3jQdXQegjFdV-traU6NAJxsY24Wze5uWLJDzP-Zt9xHevkK6QZ9_aR'\n",
    "genius = Genius(token, verbose=False)"
   ]
  },
  {
   "cell_type": "markdown",
   "id": "efeaa9e1-0d4f-49a4-8d7a-b18328e4645f",
   "metadata": {},
   "source": [
    "### Get Lyrics from Genius"
   ]
  },
  {
   "cell_type": "code",
   "execution_count": null,
   "id": "2f7058e2-cb3e-4595-9223-094f542833c7",
   "metadata": {
    "tags": []
   },
   "outputs": [],
   "source": [
    "lyrics = {}\n",
    "\n",
    "for key in tqdm(urls.keys()):\n",
    "    if key not in lyrics.keys() or lyrics[key] == None:\n",
    "        try:\n",
    "            track = tracks[key]\n",
    "            artist = sp.artist(artists[key][0])[\"name\"]\n",
    "            lyrics[key] = genius.search_song(title=track, artist=artist)\n",
    "        except:\n",
    "            print(key)\n",
    "            lyrics[key] = None\n",
    "\n",
    "\"\"\"\n",
    "#run through every song in the database\n",
    "for i in tqdm(range(data.shape[0])):\n",
    "    #retrieve all song information\n",
    "    track = data.iloc[i][\"new_id\"]\n",
    "    #extract song title\n",
    "    song = track.partition(\"%:%\")[0]\n",
    "    #extract artist\n",
    "    artist = track.partition(\"%:%\")[2]\n",
    "    #If it's featuring, change the artist to just the name of the main artist\n",
    "    if \"Featuring\" in artist:\n",
    "      artist = artist.partition(\"Featuring\")[0]\n",
    "      # if track not in lyrics.keys() or lyrics[track] == None:   \n",
    "    try:\n",
    "        #Search the genius API for the song by artist and song name and extract lyrics\n",
    "        lyrics[track] = genius.search_artist(artist, max_songs=1, sort=\"title\").song(song).lyrics\n",
    "        #Put into a pickle\n",
    "        with open('lyrics.pickle', 'wb') as handle:\n",
    "          pickle.dump(lyrics, handle, protocol=pickle.HIGHEST_PROTOCOL)\n",
    "    except:\n",
    "        #If error raised make it NA\n",
    "        lyrics[track] = \"NA\"\n",
    "\"\"\""
   ]
  },
  {
   "cell_type": "markdown",
   "id": "9e471049-be7d-4cdc-9890-cf9f5834257e",
   "metadata": {},
   "source": [
    "### Write Pickle for Lyrics (DO NOT RUN IF YOU ARE LOADING FROM PICKLE)"
   ]
  },
  {
   "cell_type": "code",
   "execution_count": null,
   "id": "c2d7674d",
   "metadata": {
    "tags": []
   },
   "outputs": [],
   "source": [
    "with open(\"pickles/lyrics.pickle\", \"wb\") as handle:\n",
    "    pickle.dump(lyrics, handle, protocol=pickle.HIGHEST_PROTOCOL)"
   ]
  },
  {
   "cell_type": "markdown",
   "id": "543943b3-e5ca-470d-8ac8-2e452027faff",
   "metadata": {},
   "source": [
    "### Load Lyrics from Pickle"
   ]
  },
  {
   "cell_type": "code",
   "execution_count": null,
   "id": "3511222d-463d-4254-8c01-c2fb169f3852",
   "metadata": {},
   "outputs": [],
   "source": [
    "with open(\"pickles/lyrics.pickle\", \"rb\") as handle:\n",
    "    lyrics = pickle.load(handle)"
   ]
  },
  {
   "cell_type": "markdown",
   "id": "78986b33-3c0f-4153-955d-0ab99800d505",
   "metadata": {},
   "source": [
    "### Write Incorrect URLs in Need of Manual Search"
   ]
  },
  {
   "cell_type": "code",
   "execution_count": null,
   "id": "5991d588-3d68-452a-a3fa-b467f9ffc580",
   "metadata": {},
   "outputs": [],
   "source": [
    "with open('data/incorrect_urls.csv', 'w') as csv_file:  \n",
    "    writer = csv.writer(csv_file)\n",
    "    writer.writerow([\"new_id\", \"url\"])\n",
    "    for key, value in lyrics.items():\n",
    "        if value == None:\n",
    "            writer.writerow([key, None])"
   ]
  },
  {
   "cell_type": "markdown",
   "id": "c1548050-38a0-46b3-a220-d0869e978585",
   "metadata": {},
   "source": [
    "### Count Number of Incorrect URLs"
   ]
  },
  {
   "cell_type": "code",
   "execution_count": null,
   "id": "8d50ccb2-58ec-4763-99ed-9248bc74bbe6",
   "metadata": {
    "tags": []
   },
   "outputs": [],
   "source": [
    "count = 0\n",
    "for key, lyric in lyrics.items():\n",
    "    if lyric == None:\n",
    "        print(key)\n",
    "        count += 1\n",
    "print(count)"
   ]
  },
  {
   "cell_type": "markdown",
   "id": "8791612d-86d4-43da-b0f8-0dd4cee35b2d",
   "metadata": {},
   "source": [
    "## Getting Sentiment Analysis"
   ]
  },
  {
   "cell_type": "markdown",
   "id": "aff2f76d-5db7-4991-a87b-eb739fc79fba",
   "metadata": {},
   "source": [
    "### Installing VADER Sentiment Analysis Package"
   ]
  },
  {
   "cell_type": "code",
   "execution_count": null,
   "id": "fb4d736f-bfac-48ba-b239-376cf700a8ea",
   "metadata": {},
   "outputs": [],
   "source": [
    "!pip install vaderSentiment"
   ]
  },
  {
   "cell_type": "markdown",
   "id": "5d7fed13-6d1e-4e72-acab-fd0bdfef2879",
   "metadata": {},
   "source": [
    "### Running Sentiment Analysis on Lyrics"
   ]
  },
  {
   "cell_type": "code",
   "execution_count": null,
   "id": "2dfcd756-6809-4f26-8eec-94d76647443a",
   "metadata": {
    "tags": []
   },
   "outputs": [],
   "source": [
    "from vaderSentiment.vaderSentiment import SentimentIntensityAnalyzer\n",
    "\n",
    "def get_sentiment(lyric):\n",
    "    sia = SentimentIntensityAnalyzer()\n",
    "    return sia.polarity_scores(lyric)\n",
    "          \n",
    "# sentiments = {}\n",
    "\n",
    "for new_id, lyric in tqdm(lyrics.items()):\n",
    "    if new_id not in sentiments.keys():\n",
    "        cleaned_lyric = \"\"\n",
    "        for sentence in lyric.splitlines()[1:]:\n",
    "            if sentence == \"\" or sentence[0] == \"[\":\n",
    "                continue\n",
    "            cleaned_lyric += sentence + \"\\n\"\n",
    "        print(new_id)\n",
    "        sentiments[new_id] = sentiment_scores(cleaned_lyric)"
   ]
  },
  {
   "cell_type": "markdown",
   "id": "7a385f7a-d9df-4eb5-acec-752b9263cfd5",
   "metadata": {},
   "source": [
    "### Writing Sentiment"
   ]
  },
  {
   "cell_type": "code",
   "execution_count": null,
   "id": "48447597-2d91-4541-9fdf-5faa5c7d9ab9",
   "metadata": {},
   "outputs": [],
   "source": [
    "with open('pickles/sentiment.pickle', 'wb') as handle:\n",
    "    pickle.dump(sentiment, handle, protocol=pickle.HIGHEST_PROTOCOL)\n",
    "    \n",
    "with open('data/genius_vader_sentiments.csv', 'w') as csv_file:  \n",
    "    writer = csv.writer(csv_file)\n",
    "    writer.writerow([\"new_id\", \"sentiment\"])\n",
    "    for key, value in sentiments.items():\n",
    "        writer.writerow([key, value[\"compound\"]])"
   ]
  }
 ],
 "metadata": {
  "celltoolbar": "Slideshow",
  "kernelspec": {
   "display_name": "Python 3 (ipykernel)",
   "language": "python",
   "name": "python3"
  },
  "language_info": {
   "codemirror_mode": {
    "name": "ipython",
    "version": 3
   },
   "file_extension": ".py",
   "mimetype": "text/x-python",
   "name": "python",
   "nbconvert_exporter": "python",
   "pygments_lexer": "ipython3",
   "version": "3.10.4"
  },
  "toc-autonumbering": false,
  "toc-showmarkdowntxt": true
 },
 "nbformat": 4,
 "nbformat_minor": 5
}
